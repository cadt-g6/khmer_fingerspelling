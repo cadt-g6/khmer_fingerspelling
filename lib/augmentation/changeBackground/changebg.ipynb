{
 "cells": [
  {
   "cell_type": "code",
   "execution_count": null,
   "metadata": {},
   "outputs": [],
   "source": [
    "import tensorflow as tf"
   ]
  },
  {
   "cell_type": "code",
   "execution_count": null,
   "metadata": {},
   "outputs": [],
   "source": [
    "from tensorflow.keras.models import Sequential"
   ]
  },
  {
   "cell_type": "code",
   "execution_count": null,
   "metadata": {},
   "outputs": [],
   "source": [
    "from tensorflow.keras.layers import (\n",
    "    BatchNormalization, SeparableConv2D, MaxPooling2D, Activation, Flatten, Dropout, Dense\n",
    ")"
   ]
  },
  {
   "cell_type": "code",
   "execution_count": null,
   "metadata": {},
   "outputs": [],
   "source": [
    "from tensorflow.keras import backend as K"
   ]
  },
  {
   "cell_type": "code",
   "execution_count": null,
   "metadata": {},
   "outputs": [],
   "source": [
    "import pixelib"
   ]
  },
  {
   "cell_type": "code",
   "execution_count": null,
   "metadata": {},
   "outputs": [],
   "source": [
    "from pixelib import alter_bg"
   ]
  },
  {
   "cell_type": "code",
   "execution_count": null,
   "metadata": {},
   "outputs": [],
   "source": [
    "import os"
   ]
  },
  {
   "cell_type": "code",
   "execution_count": null,
   "metadata": {},
   "outputs": [],
   "source": [
    "change_bg = alter_bg(model_type = \"pb\")\n",
    "change_bg.load_pascalvoc_model(\"../../../models/xception_pascalvoc.pb\")"
   ]
  },
  {
   "cell_type": "markdown",
   "metadata": {},
   "source": [
    "##### Changing backgroud\n",
    "- Hyperparameter\n",
    "    - f_image_path = Original image\n",
    "    - b_image_path = Background image\n",
    "    - output_image_name = Name of the result image"
   ]
  },
  {
   "cell_type": "markdown",
   "metadata": {},
   "source": [
    "##### Hyperparameter"
   ]
  },
  {
   "cell_type": "code",
   "execution_count": null,
   "metadata": {},
   "outputs": [],
   "source": [
    "read_path = r\"../../../datasets/rotated\"\n",
    "write_path = r\"../../../datasets/rotated_with_background\"\n",
    "bg_path = r\"../../../datasets/background\""
   ]
  },
  {
   "cell_type": "code",
   "execution_count": null,
   "metadata": {},
   "outputs": [],
   "source": [
    "def read_folder(path):\n",
    "    return os.listdir(path)\n",
    "\n",
    "def read_filename(path,folder_name=''):\n",
    "    if folder_name !='':\n",
    "        return os.listdir(path+'/'+folder_name)\n",
    "    else:\n",
    "        return os.listdir(path)"
   ]
  },
  {
   "cell_type": "code",
   "execution_count": null,
   "metadata": {},
   "outputs": [],
   "source": [
    "foldername = read_folder(read_path)\n",
    "filenames = {}\n",
    "for folder in foldername:\n",
    "    filenames[folder] = read_filename(read_path,folder)"
   ]
  },
  {
   "cell_type": "code",
   "execution_count": null,
   "metadata": {},
   "outputs": [],
   "source": [
    "foldername; len(foldername)"
   ]
  },
  {
   "cell_type": "code",
   "execution_count": null,
   "metadata": {},
   "outputs": [],
   "source": [
    "filenames"
   ]
  },
  {
   "cell_type": "code",
   "execution_count": null,
   "metadata": {},
   "outputs": [],
   "source": [
    "def getOutputname(name,bg):\n",
    "    return name.split('.')[0] + '_' + bg.split('_')[0] + '.jpg'"
   ]
  },
  {
   "cell_type": "code",
   "execution_count": null,
   "metadata": {},
   "outputs": [],
   "source": [
    "character = [\n",
    "    #*foldername.keys(),\n",
    "    'ba'\n",
    "]"
   ]
  },
  {
   "cell_type": "code",
   "execution_count": null,
   "metadata": {},
   "outputs": [],
   "source": [
    "bgfile = read_filename(bg_path)\n",
    "bgfile"
   ]
  },
  {
   "cell_type": "code",
   "execution_count": null,
   "metadata": {},
   "outputs": [],
   "source": [
    "for char in character:\n",
    "    for name in filenames[char]:\n",
    "        for bg in bgfile:\n",
    "            # f_image_path= read_path + '/' + char + '/' + name,\n",
    "            f_image_path = os.path.join(read_path,char,name)\n",
    "            # b_image_path = bg_path + '/' + bg,\n",
    "            b_image_path = os.path.join(bg_path, bg)\n",
    "            output_image_name = write_path + '/' + char + '/' + getOutputname(name,bg)\n",
    "            print(f_image_path)\n",
    "            print(b_image_path)\n",
    "            print(output_image_name)\n",
    "            change_bg.change_bg_img(\n",
    "                f_image_path= f_image_path,\n",
    "                b_image_path = b_image_path,\n",
    "                output_image_name = output_image_name\n",
    "            )\n",
    "            print(\"Successful saved file: \",  getOutputname(name,bg))"
   ]
  },
  {
   "cell_type": "code",
   "execution_count": null,
   "metadata": {},
   "outputs": [],
   "source": [
    "# change_bg.change_bg_img(\n",
    "#     f_image_path= '../../../datasets/rotated/ba/1-ba_-10.jpg',\n",
    "#     b_image_path = '../../../datasets/background/10_bg.jpg',\n",
    "#     output_image_name = '../../../datasets/rotated_with_background/ba/new_image.jpg'\n",
    "# )"
   ]
  },
  {
   "cell_type": "code",
   "execution_count": null,
   "metadata": {},
   "outputs": [],
   "source": []
  }
 ],
 "metadata": {
  "kernelspec": {
   "display_name": "Python 3.9.15 ('pixellib')",
   "language": "python",
   "name": "python3"
  },
  "language_info": {
   "codemirror_mode": {
    "name": "ipython",
    "version": 3
   },
   "file_extension": ".py",
   "mimetype": "text/x-python",
   "name": "python",
   "nbconvert_exporter": "python",
   "pygments_lexer": "ipython3",
   "version": "3.9.15"
  },
  "orig_nbformat": 4,
  "vscode": {
   "interpreter": {
    "hash": "847d835d9e0f60fdd2b43d4dd2346b8fdea57a9903656539316d463c9f66e47f"
   }
  }
 },
 "nbformat": 4,
 "nbformat_minor": 2
}
