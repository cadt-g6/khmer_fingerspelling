{
 "cells": [
  {
   "cell_type": "markdown",
   "metadata": {},
   "source": [
    "# EfficientNetB0\n"
   ]
  },
  {
   "cell_type": "markdown",
   "metadata": {},
   "source": [
    "## I. Setup\n"
   ]
  },
  {
   "cell_type": "code",
   "execution_count": 1,
   "metadata": {},
   "outputs": [],
   "source": [
    "import os\n",
    "import sys\n",
    "\n",
    "# os.chdir('/Volumes/SD Card/cleaned')\n",
    "# os.getcwd()\n",
    "\n",
    "sys.path.append('..')"
   ]
  },
  {
   "cell_type": "code",
   "execution_count": 2,
   "metadata": {},
   "outputs": [],
   "source": [
    "def listdir(path: str):\n",
    "    return os.listdir(path)"
   ]
  },
  {
   "cell_type": "code",
   "execution_count": 3,
   "metadata": {},
   "outputs": [
    {
     "data": {
      "text/plain": [
       "33168"
      ]
     },
     "execution_count": 3,
     "metadata": {},
     "output_type": "execute_result"
    }
   ],
   "source": [
    "dataset_path = '/Volumes/SD Card/cleaned'\n",
    "\n",
    "# cosonant_path = f'{dataset_path}/cosonant'\n",
    "# independent_vowel_path = f'{dataset_path}/independent_vowel'\n",
    "# stack_consonant_vowel_path = f'{dataset_path}/stack_consonant'\n",
    "# sub_vowel_path = f'{dataset_path}/sub_vowel'\n",
    "# vowel_path = f'{dataset_path}/vowel'\n",
    "\n",
    "# images_count = 0\n",
    "# for inner1 in listdir(f'{dataset_path}'):\n",
    "#     for inner2 in listdir(f'{dataset_path}/{inner1}'):\n",
    "#         try:\n",
    "#             images_count = images_count + len(listdir(f'{dataset_path}/{inner1}/{inner2}'))\n",
    "#         except NotADirectoryError as e:\n",
    "#             # print(f'ERROR: {e}')\n",
    "#             continue\n",
    "\n",
    "# images_count"
   ]
  },
  {
   "cell_type": "code",
   "execution_count": 4,
   "metadata": {},
   "outputs": [],
   "source": [
    "# only test consonant for now\n",
    "cosonant_path = '/Volumes/SD Card/cleaned_hand'"
   ]
  },
  {
   "cell_type": "markdown",
   "metadata": {},
   "source": [
    "## II. Prepare dataset\n"
   ]
  },
  {
   "cell_type": "code",
   "execution_count": 5,
   "metadata": {},
   "outputs": [],
   "source": [
    "import pandas as pd\n",
    "import random\n"
   ]
  },
  {
   "cell_type": "code",
   "execution_count": 6,
   "metadata": {},
   "outputs": [],
   "source": [
    "df = pd.DataFrame(columns=[\"label\", \"path\"])"
   ]
  },
  {
   "cell_type": "code",
   "execution_count": 7,
   "metadata": {},
   "outputs": [],
   "source": [
    "for cosonant in listdir(cosonant_path):\n",
    "    variants_path = f'{cosonant_path}/{cosonant}'\n",
    "    variants = listdir(f'{cosonant_path}/{cosonant}')\n",
    "\n",
    "    # for variant in variants:\n",
    "    for variant in random.sample(variants, min(10, len(variants))):\n",
    "    # for variant in [variants[0], variants[1], variants[2], variants[3]]:\n",
    "        vpath = f'{variants_path}/{variant}'\n",
    "        df.loc[len(df.index)] = [cosonant, vpath]"
   ]
  },
  {
   "cell_type": "code",
   "execution_count": 8,
   "metadata": {},
   "outputs": [
    {
     "data": {
      "text/plain": [
       "(321, 2)"
      ]
     },
     "execution_count": 8,
     "metadata": {},
     "output_type": "execute_result"
    }
   ],
   "source": [
    "df.shape"
   ]
  },
  {
   "cell_type": "code",
   "execution_count": 9,
   "metadata": {},
   "outputs": [
    {
     "data": {
      "text/html": [
       "<div>\n",
       "<style scoped>\n",
       "    .dataframe tbody tr th:only-of-type {\n",
       "        vertical-align: middle;\n",
       "    }\n",
       "\n",
       "    .dataframe tbody tr th {\n",
       "        vertical-align: top;\n",
       "    }\n",
       "\n",
       "    .dataframe thead th {\n",
       "        text-align: right;\n",
       "    }\n",
       "</style>\n",
       "<table border=\"1\" class=\"dataframe\">\n",
       "  <thead>\n",
       "    <tr style=\"text-align: right;\">\n",
       "      <th></th>\n",
       "      <th>label</th>\n",
       "      <th>path</th>\n",
       "    </tr>\n",
       "  </thead>\n",
       "  <tbody>\n",
       "    <tr>\n",
       "      <th>0</th>\n",
       "      <td>vo</td>\n",
       "      <td>/Volumes/SD Card/cleaned_hand/vo/493.jpg</td>\n",
       "    </tr>\n",
       "    <tr>\n",
       "      <th>1</th>\n",
       "      <td>vo</td>\n",
       "      <td>/Volumes/SD Card/cleaned_hand/vo/475.jpg</td>\n",
       "    </tr>\n",
       "    <tr>\n",
       "      <th>2</th>\n",
       "      <td>vo</td>\n",
       "      <td>/Volumes/SD Card/cleaned_hand/vo/462.jpg</td>\n",
       "    </tr>\n",
       "    <tr>\n",
       "      <th>3</th>\n",
       "      <td>vo</td>\n",
       "      <td>/Volumes/SD Card/cleaned_hand/vo/328.jpg</td>\n",
       "    </tr>\n",
       "    <tr>\n",
       "      <th>4</th>\n",
       "      <td>vo</td>\n",
       "      <td>/Volumes/SD Card/cleaned_hand/vo/170.jpg</td>\n",
       "    </tr>\n",
       "  </tbody>\n",
       "</table>\n",
       "</div>"
      ],
      "text/plain": [
       "  label                                      path\n",
       "0    vo  /Volumes/SD Card/cleaned_hand/vo/493.jpg\n",
       "1    vo  /Volumes/SD Card/cleaned_hand/vo/475.jpg\n",
       "2    vo  /Volumes/SD Card/cleaned_hand/vo/462.jpg\n",
       "3    vo  /Volumes/SD Card/cleaned_hand/vo/328.jpg\n",
       "4    vo  /Volumes/SD Card/cleaned_hand/vo/170.jpg"
      ]
     },
     "execution_count": 9,
     "metadata": {},
     "output_type": "execute_result"
    }
   ],
   "source": [
    "df.head(5)"
   ]
  },
  {
   "cell_type": "code",
   "execution_count": 10,
   "metadata": {},
   "outputs": [
    {
     "data": {
      "text/plain": [
       "array(['vo', 'cha', 'cho', 'chha', 'tho1', 'chho', 'mo', 'da', 'do', 'no',\n",
       "       'na', 'nho', 'tha1', 'ro', 'yo', 'sa', 'po', 'kha', 'kho', 'ba',\n",
       "       'ha', 'tho2', 'ka', 'ko', 'ngo', 'or', 'tha2', 'lo', 'la', 'ta',\n",
       "       'to', 'pho', 'pha'], dtype=object)"
      ]
     },
     "execution_count": 10,
     "metadata": {},
     "output_type": "execute_result"
    }
   ],
   "source": [
    "df[\"label\"].unique()\n"
   ]
  },
  {
   "cell_type": "markdown",
   "metadata": {},
   "source": [
    "## III. Preprocessing\n"
   ]
  },
  {
   "cell_type": "markdown",
   "metadata": {},
   "source": [
    "### a. Image\n"
   ]
  },
  {
   "cell_type": "code",
   "execution_count": 11,
   "metadata": {},
   "outputs": [
    {
     "name": "stderr",
     "output_type": "stream",
     "text": [
      "2022-11-18 15:09:16.954827: I tensorflow/core/platform/cpu_feature_guard.cc:193] This TensorFlow binary is optimized with oneAPI Deep Neural Network Library (oneDNN) to use the following CPU instructions in performance-critical operations:  AVX2 FMA\n",
      "To enable them in other operations, rebuild TensorFlow with the appropriate compiler flags.\n",
      "2022-11-18 15:09:21.472149: I tensorflow/core/platform/cpu_feature_guard.cc:193] This TensorFlow binary is optimized with oneAPI Deep Neural Network Library (oneDNN) to use the following CPU instructions in performance-critical operations:  AVX2 FMA\n",
      "To enable them in other operations, rebuild TensorFlow with the appropriate compiler flags.\n"
     ]
    },
    {
     "data": {
      "text/plain": [
       "(0, 321, 321)"
      ]
     },
     "execution_count": 11,
     "metadata": {},
     "output_type": "execute_result"
    }
   ],
   "source": [
    "import tensorflow as tf\n",
    "import cv2\n",
    "import numpy as np\n",
    "\n",
    "images = []\n",
    "labels = []\n",
    "error_count = 0\n",
    "\n",
    "\n",
    "def resize_image(image_path):\n",
    "    image = cv2.imread(image_path)\n",
    "    image = tf.image.resize(image, size=(224, 224))\n",
    "    image = tf.cast(image, dtype=tf.float32)\n",
    "    return image\n",
    "\n",
    "\n",
    "for item in np.array(df):\n",
    "    label = item[0]\n",
    "    path = item[1]\n",
    "\n",
    "    try:\n",
    "        image = resize_image(path)\n",
    "        images.append(image)\n",
    "        labels.append(label)\n",
    "    except ValueError as e:\n",
    "        error_count = error_count + 1\n",
    "\n",
    "error_count, len(images), len(labels)\n"
   ]
  },
  {
   "cell_type": "code",
   "execution_count": 12,
   "metadata": {},
   "outputs": [],
   "source": [
    "images = np.array(images)\n",
    "labels = np.array(labels)\n"
   ]
  },
  {
   "cell_type": "markdown",
   "metadata": {},
   "source": [
    "### b. Label\n"
   ]
  },
  {
   "cell_type": "code",
   "execution_count": 13,
   "metadata": {},
   "outputs": [
    {
     "data": {
      "text/plain": [
       "(321, 1)"
      ]
     },
     "execution_count": 13,
     "metadata": {},
     "output_type": "execute_result"
    }
   ],
   "source": [
    "from sklearn.preprocessing import LabelEncoder\n",
    "\n",
    "labelEncoder = LabelEncoder()\n",
    "y = labelEncoder.fit_transform(labels)\n",
    "Y = y.reshape(-1, 1)\n",
    "\n",
    "Y.shape\n"
   ]
  },
  {
   "cell_type": "markdown",
   "metadata": {},
   "source": [
    "### c. Split testing & training data\n"
   ]
  },
  {
   "cell_type": "code",
   "execution_count": 14,
   "metadata": {},
   "outputs": [],
   "source": [
    "from sklearn.model_selection import train_test_split\n"
   ]
  },
  {
   "cell_type": "code",
   "execution_count": 15,
   "metadata": {},
   "outputs": [],
   "source": [
    "train_x, test_x, train_Y, test_Y = train_test_split(\n",
    "    images,\n",
    "    Y,\n",
    "    test_size=0.2,\n",
    "    random_state=10\n",
    ")\n"
   ]
  },
  {
   "cell_type": "code",
   "execution_count": 16,
   "metadata": {},
   "outputs": [
    {
     "data": {
      "text/plain": [
       "((256, 224, 224, 3), (65, 224, 224, 3), (256, 1), (65, 1))"
      ]
     },
     "execution_count": 16,
     "metadata": {},
     "output_type": "execute_result"
    }
   ],
   "source": [
    "train_x.shape, test_x.shape, train_Y.shape, test_Y.shape\n"
   ]
  },
  {
   "cell_type": "markdown",
   "metadata": {},
   "source": [
    "## IV. Train\n"
   ]
  },
  {
   "cell_type": "code",
   "execution_count": 17,
   "metadata": {},
   "outputs": [],
   "source": [
    "NUM_CLASSES = len(labels)\n",
    "IMG_SIZE = 32\n",
    "\n",
    "size = (IMG_SIZE, IMG_SIZE)\n"
   ]
  },
  {
   "cell_type": "code",
   "execution_count": 18,
   "metadata": {},
   "outputs": [
    {
     "name": "stdout",
     "output_type": "stream",
     "text": [
      "Model: \"model\"\n",
      "_________________________________________________________________\n",
      " Layer (type)                Output Shape              Param #   \n",
      "=================================================================\n",
      " input_1 (InputLayer)        [(None, 224, 224, 3)]     0         \n",
      "                                                                 \n",
      " efficientnetb0 (Functional)  (None, 321)              4460772   \n",
      "                                                                 \n",
      "=================================================================\n",
      "Total params: 4,460,772\n",
      "Trainable params: 4,418,749\n",
      "Non-trainable params: 42,023\n",
      "_________________________________________________________________\n"
     ]
    }
   ],
   "source": [
    "inputs = tf.keras.layers.Input(shape=(IMG_SIZE, IMG_SIZE, 3))\n",
    "outputs = tf.keras.applications.efficientnet.EfficientNetB0(\n",
    "    include_top=True,\n",
    "    weights=None,\n",
    "    classes=NUM_CLASSES\n",
    ")(inputs)\n",
    "\n",
    "model = tf.keras.Model(inputs, outputs)\n",
    "model.compile(\n",
    "    optimizer=\"sgd\",\n",
    "    loss=\"mse\",\n",
    "    metrics=[\"accuracy\"]\n",
    ")\n",
    "\n",
    "model.summary()\n"
   ]
  },
  {
   "cell_type": "code",
   "execution_count": 19,
   "metadata": {},
   "outputs": [],
   "source": [
    "from datetime import datetime"
   ]
  },
  {
   "cell_type": "code",
   "execution_count": 20,
   "metadata": {},
   "outputs": [
    {
     "name": "stdout",
     "output_type": "stream",
     "text": [
      "Epoch 1/30\n",
      "8/8 - 49s - loss: 336.1956 - accuracy: 0.0039 - 49s/epoch - 6s/step\n",
      "Epoch 2/30\n",
      "8/8 - 37s - loss: 336.1957 - accuracy: 0.0039 - 37s/epoch - 5s/step\n",
      "Epoch 3/30\n",
      "8/8 - 34s - loss: 336.1957 - accuracy: 0.0078 - 34s/epoch - 4s/step\n",
      "Epoch 4/30\n",
      "8/8 - 34s - loss: 336.1956 - accuracy: 0.0000e+00 - 34s/epoch - 4s/step\n",
      "Epoch 5/30\n",
      "8/8 - 33s - loss: 336.1957 - accuracy: 0.0000e+00 - 33s/epoch - 4s/step\n",
      "Epoch 6/30\n",
      "8/8 - 37s - loss: 336.1957 - accuracy: 0.0000e+00 - 37s/epoch - 5s/step\n",
      "Epoch 7/30\n",
      "8/8 - 34s - loss: 336.1956 - accuracy: 0.0039 - 34s/epoch - 4s/step\n",
      "Epoch 8/30\n",
      "8/8 - 34s - loss: 336.1957 - accuracy: 0.0000e+00 - 34s/epoch - 4s/step\n",
      "Epoch 9/30\n",
      "8/8 - 34s - loss: 336.1957 - accuracy: 0.0039 - 34s/epoch - 4s/step\n",
      "Epoch 10/30\n",
      "8/8 - 36s - loss: 336.1957 - accuracy: 0.0039 - 36s/epoch - 5s/step\n",
      "Epoch 11/30\n",
      "8/8 - 33s - loss: 336.1956 - accuracy: 0.0000e+00 - 33s/epoch - 4s/step\n",
      "Epoch 12/30\n",
      "8/8 - 36s - loss: 336.1956 - accuracy: 0.0000e+00 - 36s/epoch - 4s/step\n",
      "Epoch 13/30\n",
      "8/8 - 35s - loss: 336.1956 - accuracy: 0.0039 - 35s/epoch - 4s/step\n",
      "Epoch 14/30\n",
      "8/8 - 34s - loss: 336.1957 - accuracy: 0.0000e+00 - 34s/epoch - 4s/step\n",
      "Epoch 15/30\n",
      "8/8 - 35s - loss: 336.1956 - accuracy: 0.0000e+00 - 35s/epoch - 4s/step\n",
      "Epoch 16/30\n",
      "8/8 - 34s - loss: 336.1956 - accuracy: 0.0000e+00 - 34s/epoch - 4s/step\n",
      "Epoch 17/30\n",
      "8/8 - 33s - loss: 336.1957 - accuracy: 0.0000e+00 - 33s/epoch - 4s/step\n",
      "Epoch 18/30\n",
      "8/8 - 33s - loss: 336.1956 - accuracy: 0.0039 - 33s/epoch - 4s/step\n",
      "Epoch 19/30\n",
      "8/8 - 33s - loss: 336.1957 - accuracy: 0.0078 - 33s/epoch - 4s/step\n",
      "Epoch 20/30\n",
      "8/8 - 36s - loss: 336.1957 - accuracy: 0.0000e+00 - 36s/epoch - 4s/step\n",
      "Epoch 21/30\n",
      "8/8 - 34s - loss: 336.1957 - accuracy: 0.0000e+00 - 34s/epoch - 4s/step\n",
      "Epoch 22/30\n",
      "8/8 - 33s - loss: 336.1957 - accuracy: 0.0039 - 33s/epoch - 4s/step\n",
      "Epoch 23/30\n",
      "8/8 - 34s - loss: 336.1957 - accuracy: 0.0039 - 34s/epoch - 4s/step\n",
      "Epoch 24/30\n",
      "8/8 - 36s - loss: 336.1956 - accuracy: 0.0039 - 36s/epoch - 4s/step\n",
      "Epoch 25/30\n",
      "8/8 - 33s - loss: 336.1957 - accuracy: 0.0000e+00 - 33s/epoch - 4s/step\n",
      "Epoch 26/30\n",
      "8/8 - 33s - loss: 336.1956 - accuracy: 0.0000e+00 - 33s/epoch - 4s/step\n",
      "Epoch 27/30\n",
      "8/8 - 33s - loss: 336.1956 - accuracy: 0.0000e+00 - 33s/epoch - 4s/step\n",
      "Epoch 28/30\n",
      "8/8 - 33s - loss: 336.1957 - accuracy: 0.0000e+00 - 33s/epoch - 4s/step\n",
      "Epoch 29/30\n",
      "8/8 - 33s - loss: 336.1957 - accuracy: 0.0039 - 33s/epoch - 4s/step\n",
      "Epoch 30/30\n",
      "8/8 - 33s - loss: 336.1956 - accuracy: 0.0039 - 33s/epoch - 4s/step\n"
     ]
    },
    {
     "data": {
      "text/plain": [
       "{'loss': [336.1956481933594,\n",
       "  336.1956787109375,\n",
       "  336.1956787109375,\n",
       "  336.1956481933594,\n",
       "  336.1956787109375,\n",
       "  336.1956787109375,\n",
       "  336.19561767578125,\n",
       "  336.1956787109375,\n",
       "  336.1956787109375,\n",
       "  336.1956787109375,\n",
       "  336.1956481933594,\n",
       "  336.1956481933594,\n",
       "  336.1956481933594,\n",
       "  336.1956787109375,\n",
       "  336.1956481933594,\n",
       "  336.1956481933594,\n",
       "  336.1956787109375,\n",
       "  336.1956481933594,\n",
       "  336.1956787109375,\n",
       "  336.1956787109375,\n",
       "  336.1956787109375,\n",
       "  336.1956787109375,\n",
       "  336.1956787109375,\n",
       "  336.1956481933594,\n",
       "  336.1956787109375,\n",
       "  336.1956481933594,\n",
       "  336.1956481933594,\n",
       "  336.1956787109375,\n",
       "  336.1956787109375,\n",
       "  336.1956481933594],\n",
       " 'accuracy': [0.00390625,\n",
       "  0.00390625,\n",
       "  0.0078125,\n",
       "  0.0,\n",
       "  0.0,\n",
       "  0.0,\n",
       "  0.00390625,\n",
       "  0.0,\n",
       "  0.00390625,\n",
       "  0.00390625,\n",
       "  0.0,\n",
       "  0.0,\n",
       "  0.00390625,\n",
       "  0.0,\n",
       "  0.0,\n",
       "  0.0,\n",
       "  0.0,\n",
       "  0.00390625,\n",
       "  0.0078125,\n",
       "  0.0,\n",
       "  0.0,\n",
       "  0.00390625,\n",
       "  0.00390625,\n",
       "  0.00390625,\n",
       "  0.0,\n",
       "  0.0,\n",
       "  0.0,\n",
       "  0.0,\n",
       "  0.00390625,\n",
       "  0.00390625]}"
      ]
     },
     "execution_count": 20,
     "metadata": {},
     "output_type": "execute_result"
    }
   ],
   "source": [
    "epochs = 30\n",
    "\n",
    "started_at = datetime.now().time()\n",
    "hist = model.fit(train_x, train_Y, epochs=epochs, verbose=2)\n",
    "trained_at = datetime.now().time()\n",
    "\n",
    "hist.history"
   ]
  },
  {
   "cell_type": "code",
   "execution_count": 21,
   "metadata": {},
   "outputs": [
    {
     "data": {
      "text/plain": [
       "(datetime.time(15, 9, 27, 873863), datetime.time(15, 26, 46, 908896))"
      ]
     },
     "execution_count": 21,
     "metadata": {},
     "output_type": "execute_result"
    }
   ],
   "source": [
    "started_at, trained_at"
   ]
  },
  {
   "cell_type": "code",
   "execution_count": 22,
   "metadata": {},
   "outputs": [
    {
     "name": "stdout",
     "output_type": "stream",
     "text": [
      "3/3 [==============================] - 4s 438ms/step - loss: 348.8834 - accuracy: 0.0000e+00\n",
      "Loss = 348.8833923339844\n",
      "Test Accuracy = 0.0\n"
     ]
    }
   ],
   "source": [
    "prediction = model.evaluate(test_x, test_Y)\n",
    "\n",
    "print(\"Loss = \" + str(prediction[0]))\n",
    "print(\"Test Accuracy = \" + str(prediction[1]))"
   ]
  },
  {
   "cell_type": "markdown",
   "metadata": {},
   "source": [
    "## V. Save Model"
   ]
  },
  {
   "cell_type": "code",
   "execution_count": 23,
   "metadata": {},
   "outputs": [],
   "source": [
    "model.save(f'../models/efficient_net_b0-{trained_at}.h5')"
   ]
  }
 ],
 "metadata": {
  "kernelspec": {
   "display_name": "Python 3.10.0 64-bit ('3.10.0')",
   "language": "python",
   "name": "python3"
  },
  "language_info": {
   "codemirror_mode": {
    "name": "ipython",
    "version": 3
   },
   "file_extension": ".py",
   "mimetype": "text/x-python",
   "name": "python",
   "nbconvert_exporter": "python",
   "pygments_lexer": "ipython3",
   "version": "3.10.0"
  },
  "orig_nbformat": 4,
  "vscode": {
   "interpreter": {
    "hash": "b8d83d870ee499a7f35a03e9e5e6e84ce02f1ac8f9e1937d0a54b919ea69e0ca"
   }
  }
 },
 "nbformat": 4,
 "nbformat_minor": 2
}
