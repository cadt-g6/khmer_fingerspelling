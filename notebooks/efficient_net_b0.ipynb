{
 "cells": [
  {
   "cell_type": "markdown",
   "metadata": {},
   "source": [
    "# EfficientNetB0\n"
   ]
  },
  {
   "cell_type": "markdown",
   "metadata": {},
   "source": [
    "## I. Setup\n"
   ]
  },
  {
   "cell_type": "code",
   "execution_count": 78,
   "metadata": {},
   "outputs": [],
   "source": [
    "import os\n",
    "import sys\n",
    "\n",
    "# os.chdir('/Volumes/SD Card/cleaned')\n",
    "# os.getcwd()\n",
    "\n",
    "sys.path.append('..')"
   ]
  },
  {
   "cell_type": "code",
   "execution_count": 79,
   "metadata": {},
   "outputs": [],
   "source": [
    "dataset_path = '/Volumes/SD Card/cleaned'\n"
   ]
  },
  {
   "cell_type": "code",
   "execution_count": 80,
   "metadata": {},
   "outputs": [],
   "source": [
    "def listdir(path: str):\n",
    "    return os.listdir(path)\n",
    "\n",
    "\n",
    "cosonant_path = f'{dataset_path}/cosonant'\n",
    "independent_vowel_path = f'{dataset_path}/independent_vowel'\n",
    "stack_consonant_vowel_path = f'{dataset_path}/stack_consonant'\n",
    "sub_vowel_path = f'{dataset_path}/sub_vowel'\n",
    "vowel_path = f'{dataset_path}/vowel'"
   ]
  },
  {
   "cell_type": "code",
   "execution_count": 81,
   "metadata": {},
   "outputs": [
    {
     "data": {
      "text/plain": [
       "331.68"
      ]
     },
     "execution_count": 81,
     "metadata": {},
     "output_type": "execute_result"
    }
   ],
   "source": [
    "count = 0\n",
    "for inner1 in listdir(f'{dataset_path}'):\n",
    "    for inner2 in listdir(f'{dataset_path}/{inner1}'):\n",
    "        try:\n",
    "            count = count + len(listdir(f'{dataset_path}/{inner1}/{inner2}'))\n",
    "        except NotADirectoryError as e:\n",
    "            # print(f'ERROR: {e}')\n",
    "            continue\n",
    "\n",
    "# consider my laptop slow, \n",
    "# should only run 100 per epoch\n",
    "epochs = count / 100\n",
    "epochs"
   ]
  },
  {
   "cell_type": "markdown",
   "metadata": {},
   "source": [
    "## II. Prepare dataset\n"
   ]
  },
  {
   "cell_type": "code",
   "execution_count": 82,
   "metadata": {},
   "outputs": [],
   "source": [
    "import pandas as pd\n",
    "# import random\n"
   ]
  },
  {
   "cell_type": "code",
   "execution_count": 83,
   "metadata": {},
   "outputs": [],
   "source": [
    "df = pd.DataFrame(columns=[\"label\", \"path\"])"
   ]
  },
  {
   "cell_type": "code",
   "execution_count": 84,
   "metadata": {},
   "outputs": [],
   "source": [
    "for cosonant in listdir(cosonant_path):\n",
    "    variants_path = f'{cosonant_path}/{cosonant}'\n",
    "    variants = listdir(f'{cosonant_path}/{cosonant}')\n",
    "\n",
    "    for variant in variants:\n",
    "    # for variant in random.sample(variants, 4):\n",
    "    # for variant in [variants[0], variants[1], variants[2], variants[3]]:\n",
    "        vpath = f'{variants_path}/{variant}'\n",
    "        df.loc[len(df.index)] = [cosonant, vpath]"
   ]
  },
  {
   "cell_type": "code",
   "execution_count": 85,
   "metadata": {},
   "outputs": [
    {
     "data": {
      "text/plain": [
       "(132, 2)"
      ]
     },
     "execution_count": 85,
     "metadata": {},
     "output_type": "execute_result"
    }
   ],
   "source": [
    "df.shape"
   ]
  },
  {
   "cell_type": "code",
   "execution_count": 86,
   "metadata": {},
   "outputs": [
    {
     "data": {
      "text/html": [
       "<div>\n",
       "<style scoped>\n",
       "    .dataframe tbody tr th:only-of-type {\n",
       "        vertical-align: middle;\n",
       "    }\n",
       "\n",
       "    .dataframe tbody tr th {\n",
       "        vertical-align: top;\n",
       "    }\n",
       "\n",
       "    .dataframe thead th {\n",
       "        text-align: right;\n",
       "    }\n",
       "</style>\n",
       "<table border=\"1\" class=\"dataframe\">\n",
       "  <thead>\n",
       "    <tr style=\"text-align: right;\">\n",
       "      <th></th>\n",
       "      <th>label</th>\n",
       "      <th>path</th>\n",
       "    </tr>\n",
       "  </thead>\n",
       "  <tbody>\n",
       "    <tr>\n",
       "      <th>0</th>\n",
       "      <td>ba</td>\n",
       "      <td>/Volumes/SD Card/cleaned/cosonant/ba/119.jpg</td>\n",
       "    </tr>\n",
       "    <tr>\n",
       "      <th>1</th>\n",
       "      <td>ba</td>\n",
       "      <td>/Volumes/SD Card/cleaned/cosonant/ba/120.jpg</td>\n",
       "    </tr>\n",
       "    <tr>\n",
       "      <th>2</th>\n",
       "      <td>ba</td>\n",
       "      <td>/Volumes/SD Card/cleaned/cosonant/ba/121.jpg</td>\n",
       "    </tr>\n",
       "    <tr>\n",
       "      <th>3</th>\n",
       "      <td>ba</td>\n",
       "      <td>/Volumes/SD Card/cleaned/cosonant/ba/122.jpg</td>\n",
       "    </tr>\n",
       "    <tr>\n",
       "      <th>4</th>\n",
       "      <td>cha</td>\n",
       "      <td>/Volumes/SD Card/cleaned/cosonant/cha/122.jpg</td>\n",
       "    </tr>\n",
       "  </tbody>\n",
       "</table>\n",
       "</div>"
      ],
      "text/plain": [
       "  label                                           path\n",
       "0    ba   /Volumes/SD Card/cleaned/cosonant/ba/119.jpg\n",
       "1    ba   /Volumes/SD Card/cleaned/cosonant/ba/120.jpg\n",
       "2    ba   /Volumes/SD Card/cleaned/cosonant/ba/121.jpg\n",
       "3    ba   /Volumes/SD Card/cleaned/cosonant/ba/122.jpg\n",
       "4   cha  /Volumes/SD Card/cleaned/cosonant/cha/122.jpg"
      ]
     },
     "execution_count": 86,
     "metadata": {},
     "output_type": "execute_result"
    }
   ],
   "source": [
    "df.head(5)"
   ]
  },
  {
   "cell_type": "code",
   "execution_count": 87,
   "metadata": {},
   "outputs": [
    {
     "data": {
      "text/plain": [
       "array(['ba', 'cha', 'chha', 'chho', 'cho', 'da', 'do', 'ha', 'ka', 'kha',\n",
       "       'kho', 'ko', 'la', 'lo', 'mo', 'na', 'ngo', 'nho', 'no', 'or',\n",
       "       'pha', 'pho', 'po', 'ro', 'sa', 'ta', 'tha1', 'tha2', 'tho1',\n",
       "       'tho2', 'to', 'vo', 'yo'], dtype=object)"
      ]
     },
     "execution_count": 87,
     "metadata": {},
     "output_type": "execute_result"
    }
   ],
   "source": [
    "df[\"label\"].unique()\n"
   ]
  },
  {
   "cell_type": "markdown",
   "metadata": {},
   "source": [
    "## III. Preprocessing\n"
   ]
  },
  {
   "cell_type": "markdown",
   "metadata": {},
   "source": [
    "### a. Image\n"
   ]
  },
  {
   "cell_type": "code",
   "execution_count": 88,
   "metadata": {},
   "outputs": [
    {
     "data": {
      "text/plain": [
       "(0, 132, 132)"
      ]
     },
     "execution_count": 88,
     "metadata": {},
     "output_type": "execute_result"
    }
   ],
   "source": [
    "import tensorflow as tf\n",
    "import cv2\n",
    "import numpy as np\n",
    "\n",
    "images = []\n",
    "labels = []\n",
    "error_count = 0\n",
    "\n",
    "\n",
    "def resize_image(image_path):\n",
    "    image = cv2.imread(image_path)\n",
    "    image = tf.image.resize(image, size=(224, 224))\n",
    "    image = tf.cast(image, dtype=tf.float32)\n",
    "    return image\n",
    "\n",
    "\n",
    "for item in np.array(df):\n",
    "    label = item[0]\n",
    "    path = item[1]\n",
    "\n",
    "    try:\n",
    "        image = resize_image(path)\n",
    "        images.append(image)\n",
    "        labels.append(label)\n",
    "    except ValueError as e:\n",
    "        error_count = error_count + 1\n",
    "\n",
    "error_count, len(images), len(labels)\n"
   ]
  },
  {
   "cell_type": "code",
   "execution_count": 89,
   "metadata": {},
   "outputs": [],
   "source": [
    "images = np.array(images)\n",
    "labels = np.array(labels)\n"
   ]
  },
  {
   "cell_type": "markdown",
   "metadata": {},
   "source": [
    "### b. Label\n"
   ]
  },
  {
   "cell_type": "code",
   "execution_count": 90,
   "metadata": {},
   "outputs": [
    {
     "data": {
      "text/plain": [
       "(132, 1)"
      ]
     },
     "execution_count": 90,
     "metadata": {},
     "output_type": "execute_result"
    }
   ],
   "source": [
    "from sklearn.preprocessing import LabelEncoder\n",
    "\n",
    "labelEncoder = LabelEncoder()\n",
    "y = labelEncoder.fit_transform(labels)\n",
    "Y = y.reshape(-1, 1)\n",
    "\n",
    "Y.shape\n"
   ]
  },
  {
   "cell_type": "markdown",
   "metadata": {},
   "source": [
    "### c. Split testing & training data\n"
   ]
  },
  {
   "cell_type": "code",
   "execution_count": 91,
   "metadata": {},
   "outputs": [],
   "source": [
    "from sklearn.model_selection import train_test_split\n"
   ]
  },
  {
   "cell_type": "code",
   "execution_count": 92,
   "metadata": {},
   "outputs": [],
   "source": [
    "train_x, test_x, train_Y, test_Y = train_test_split(\n",
    "    images,\n",
    "    Y,\n",
    "    test_size=0.2,\n",
    "    random_state=10\n",
    ")\n"
   ]
  },
  {
   "cell_type": "code",
   "execution_count": 93,
   "metadata": {},
   "outputs": [
    {
     "data": {
      "text/plain": [
       "((105, 224, 224, 3), (27, 224, 224, 3), (105, 1), (27, 1))"
      ]
     },
     "execution_count": 93,
     "metadata": {},
     "output_type": "execute_result"
    }
   ],
   "source": [
    "train_x.shape, test_x.shape, train_Y.shape, test_Y.shape\n"
   ]
  },
  {
   "cell_type": "markdown",
   "metadata": {},
   "source": [
    "## IV. Train\n"
   ]
  },
  {
   "cell_type": "code",
   "execution_count": 94,
   "metadata": {},
   "outputs": [],
   "source": [
    "NUM_CLASSES = 3\n",
    "IMG_SIZE = 224\n",
    "\n",
    "size = (IMG_SIZE, IMG_SIZE)\n"
   ]
  },
  {
   "cell_type": "code",
   "execution_count": 95,
   "metadata": {},
   "outputs": [
    {
     "name": "stdout",
     "output_type": "stream",
     "text": [
      "Model: \"model_4\"\n",
      "_________________________________________________________________\n",
      " Layer (type)                Output Shape              Param #   \n",
      "=================================================================\n",
      " input_9 (InputLayer)        [(None, 224, 224, 3)]     0         \n",
      "                                                                 \n",
      " efficientnetb0 (Functional)  (None, 3)                4053414   \n",
      "                                                                 \n",
      "=================================================================\n",
      "Total params: 4,053,414\n",
      "Trainable params: 4,011,391\n",
      "Non-trainable params: 42,023\n",
      "_________________________________________________________________\n"
     ]
    }
   ],
   "source": [
    "inputs = tf.keras.layers.Input(shape=(IMG_SIZE, IMG_SIZE, 3))\n",
    "outputs = tf.keras.applications.efficientnet.EfficientNetB0(\n",
    "    include_top=True,\n",
    "    weights=None,\n",
    "    classes=NUM_CLASSES\n",
    ")(inputs)\n",
    "\n",
    "model = tf.keras.Model(inputs, outputs)\n",
    "model.compile(\n",
    "    optimizer=\"sgd\",\n",
    "    loss=\"mse\",\n",
    "    metrics=[\"accuracy\"]\n",
    ")\n",
    "\n",
    "model.summary()\n"
   ]
  },
  {
   "cell_type": "code",
   "execution_count": 96,
   "metadata": {},
   "outputs": [],
   "source": [
    "from datetime import datetime"
   ]
  },
  {
   "cell_type": "code",
   "execution_count": 97,
   "metadata": {},
   "outputs": [
    {
     "name": "stdout",
     "output_type": "stream",
     "text": [
      "Epoch 1/4\n",
      "4/4 - 33s - loss: 353.8961 - accuracy: 0.0476 - 33s/epoch - 8s/step\n",
      "Epoch 2/4\n",
      "4/4 - 22s - loss: 353.8979 - accuracy: 0.0476 - 22s/epoch - 6s/step\n",
      "Epoch 3/4\n",
      "4/4 - 23s - loss: 353.8838 - accuracy: 0.0286 - 23s/epoch - 6s/step\n",
      "Epoch 4/4\n",
      "4/4 - 41s - loss: 353.8795 - accuracy: 0.0381 - 41s/epoch - 10s/step\n"
     ]
    }
   ],
   "source": [
    "epochs = 4\n",
    "\n",
    "hist = model.fit(train_x, train_Y, epochs=epochs, verbose=2)\n",
    "trained_at = datetime.now().time()\n",
    "\n",
    "hist.history"
   ]
  },
  {
   "cell_type": "code",
   "execution_count": 98,
   "metadata": {},
   "outputs": [
    {
     "name": "stdout",
     "output_type": "stream",
     "text": [
      "1/1 [==============================] - 7s 7s/step - loss: 267.4696 - accuracy: 0.0000e+00\n",
      "Loss = 267.4695739746094\n",
      "Test Accuracy = 0.0\n"
     ]
    }
   ],
   "source": [
    "prediction = model.evaluate(test_x, test_Y)\n",
    "\n",
    "print(\"Loss = \" + str(prediction[0]))\n",
    "print(\"Test Accuracy = \" + str(prediction[1]))"
   ]
  },
  {
   "cell_type": "markdown",
   "metadata": {},
   "source": [
    "## V. Save Model"
   ]
  },
  {
   "cell_type": "code",
   "execution_count": 99,
   "metadata": {},
   "outputs": [],
   "source": [
    "model.save(f'../models/efficient_net_b0-{trained_at}.h5')"
   ]
  }
 ],
 "metadata": {
  "kernelspec": {
   "display_name": "Python 3.10.0 64-bit ('3.10.0')",
   "language": "python",
   "name": "python3"
  },
  "language_info": {
   "codemirror_mode": {
    "name": "ipython",
    "version": 3
   },
   "file_extension": ".py",
   "mimetype": "text/x-python",
   "name": "python",
   "nbconvert_exporter": "python",
   "pygments_lexer": "ipython3",
   "version": "3.10.0"
  },
  "orig_nbformat": 4,
  "vscode": {
   "interpreter": {
    "hash": "b8d83d870ee499a7f35a03e9e5e6e84ce02f1ac8f9e1937d0a54b919ea69e0ca"
   }
  }
 },
 "nbformat": 4,
 "nbformat_minor": 2
}
