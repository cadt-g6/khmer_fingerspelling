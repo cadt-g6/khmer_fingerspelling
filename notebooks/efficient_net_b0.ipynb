{
 "cells": [
  {
   "cell_type": "markdown",
   "metadata": {},
   "source": [
    "# EfficientNetB0\n"
   ]
  },
  {
   "cell_type": "markdown",
   "metadata": {},
   "source": [
    "## I. Setup\n"
   ]
  },
  {
   "cell_type": "code",
   "execution_count": 23,
   "metadata": {},
   "outputs": [],
   "source": [
    "import os\n",
    "import sys\n",
    "\n",
    "# os.chdir('/Volumes/SD Card/cleaned')\n",
    "# os.getcwd()\n",
    "\n",
    "sys.path.append('..')"
   ]
  },
  {
   "cell_type": "code",
   "execution_count": 24,
   "metadata": {},
   "outputs": [],
   "source": [
    "dataset_path = '/Volumes/SD Card/cleaned'\n"
   ]
  },
  {
   "cell_type": "code",
   "execution_count": 25,
   "metadata": {},
   "outputs": [],
   "source": [
    "def listdir(path: str):\n",
    "    return os.listdir(path)\n",
    "\n",
    "\n",
    "cosonant_path = f'{dataset_path}/cosonant'\n",
    "independent_vowel_path = f'{dataset_path}/independent_vowel'\n",
    "stack_consonant_vowel_path = f'{dataset_path}/stack_consonant'\n",
    "sub_vowel_path = f'{dataset_path}/sub_vowel'\n",
    "vowel_path = f'{dataset_path}/vowel'"
   ]
  },
  {
   "cell_type": "code",
   "execution_count": 26,
   "metadata": {},
   "outputs": [
    {
     "data": {
      "text/plain": [
       "33168"
      ]
     },
     "execution_count": 26,
     "metadata": {},
     "output_type": "execute_result"
    }
   ],
   "source": [
    "images_count = 0\n",
    "for inner1 in listdir(f'{dataset_path}'):\n",
    "    for inner2 in listdir(f'{dataset_path}/{inner1}'):\n",
    "        try:\n",
    "            images_count = images_count + len(listdir(f'{dataset_path}/{inner1}/{inner2}'))\n",
    "        except NotADirectoryError as e:\n",
    "            # print(f'ERROR: {e}')\n",
    "            continue\n",
    "\n",
    "images_count"
   ]
  },
  {
   "cell_type": "markdown",
   "metadata": {},
   "source": [
    "## II. Prepare dataset\n"
   ]
  },
  {
   "cell_type": "code",
   "execution_count": 27,
   "metadata": {},
   "outputs": [],
   "source": [
    "import pandas as pd\n",
    "import random\n"
   ]
  },
  {
   "cell_type": "code",
   "execution_count": 28,
   "metadata": {},
   "outputs": [],
   "source": [
    "df = pd.DataFrame(columns=[\"label\", \"path\"])"
   ]
  },
  {
   "cell_type": "code",
   "execution_count": 29,
   "metadata": {},
   "outputs": [],
   "source": [
    "for cosonant in listdir(cosonant_path):\n",
    "    variants_path = f'{cosonant_path}/{cosonant}'\n",
    "    variants = listdir(f'{cosonant_path}/{cosonant}')\n",
    "\n",
    "    # for variant in variants:\n",
    "    for variant in random.sample(variants, 10):\n",
    "    # for variant in [variants[0], variants[1], variants[2], variants[3]]:\n",
    "        vpath = f'{variants_path}/{variant}'\n",
    "        df.loc[len(df.index)] = [cosonant, vpath]"
   ]
  },
  {
   "cell_type": "code",
   "execution_count": 30,
   "metadata": {},
   "outputs": [
    {
     "data": {
      "text/plain": [
       "(330, 2)"
      ]
     },
     "execution_count": 30,
     "metadata": {},
     "output_type": "execute_result"
    }
   ],
   "source": [
    "df.shape"
   ]
  },
  {
   "cell_type": "code",
   "execution_count": 31,
   "metadata": {},
   "outputs": [
    {
     "data": {
      "text/html": [
       "<div>\n",
       "<style scoped>\n",
       "    .dataframe tbody tr th:only-of-type {\n",
       "        vertical-align: middle;\n",
       "    }\n",
       "\n",
       "    .dataframe tbody tr th {\n",
       "        vertical-align: top;\n",
       "    }\n",
       "\n",
       "    .dataframe thead th {\n",
       "        text-align: right;\n",
       "    }\n",
       "</style>\n",
       "<table border=\"1\" class=\"dataframe\">\n",
       "  <thead>\n",
       "    <tr style=\"text-align: right;\">\n",
       "      <th></th>\n",
       "      <th>label</th>\n",
       "      <th>path</th>\n",
       "    </tr>\n",
       "  </thead>\n",
       "  <tbody>\n",
       "    <tr>\n",
       "      <th>0</th>\n",
       "      <td>ba</td>\n",
       "      <td>/Volumes/SD Card/cleaned/cosonant/ba/126.jpg</td>\n",
       "    </tr>\n",
       "    <tr>\n",
       "      <th>1</th>\n",
       "      <td>ba</td>\n",
       "      <td>/Volumes/SD Card/cleaned/cosonant/ba/383.jpg</td>\n",
       "    </tr>\n",
       "    <tr>\n",
       "      <th>2</th>\n",
       "      <td>ba</td>\n",
       "      <td>/Volumes/SD Card/cleaned/cosonant/ba/517.jpg</td>\n",
       "    </tr>\n",
       "    <tr>\n",
       "      <th>3</th>\n",
       "      <td>ba</td>\n",
       "      <td>/Volumes/SD Card/cleaned/cosonant/ba/368.jpg</td>\n",
       "    </tr>\n",
       "    <tr>\n",
       "      <th>4</th>\n",
       "      <td>ba</td>\n",
       "      <td>/Volumes/SD Card/cleaned/cosonant/ba/505.jpg</td>\n",
       "    </tr>\n",
       "  </tbody>\n",
       "</table>\n",
       "</div>"
      ],
      "text/plain": [
       "  label                                          path\n",
       "0    ba  /Volumes/SD Card/cleaned/cosonant/ba/126.jpg\n",
       "1    ba  /Volumes/SD Card/cleaned/cosonant/ba/383.jpg\n",
       "2    ba  /Volumes/SD Card/cleaned/cosonant/ba/517.jpg\n",
       "3    ba  /Volumes/SD Card/cleaned/cosonant/ba/368.jpg\n",
       "4    ba  /Volumes/SD Card/cleaned/cosonant/ba/505.jpg"
      ]
     },
     "execution_count": 31,
     "metadata": {},
     "output_type": "execute_result"
    }
   ],
   "source": [
    "df.head(5)"
   ]
  },
  {
   "cell_type": "code",
   "execution_count": 32,
   "metadata": {},
   "outputs": [
    {
     "data": {
      "text/plain": [
       "array(['ba', 'cha', 'chha', 'chho', 'cho', 'da', 'do', 'ha', 'ka', 'kha',\n",
       "       'kho', 'ko', 'la', 'lo', 'mo', 'na', 'ngo', 'nho', 'no', 'or',\n",
       "       'pha', 'pho', 'po', 'ro', 'sa', 'ta', 'tha1', 'tha2', 'tho1',\n",
       "       'tho2', 'to', 'vo', 'yo'], dtype=object)"
      ]
     },
     "execution_count": 32,
     "metadata": {},
     "output_type": "execute_result"
    }
   ],
   "source": [
    "df[\"label\"].unique()\n"
   ]
  },
  {
   "cell_type": "markdown",
   "metadata": {},
   "source": [
    "## III. Preprocessing\n"
   ]
  },
  {
   "cell_type": "markdown",
   "metadata": {},
   "source": [
    "### a. Image\n"
   ]
  },
  {
   "cell_type": "code",
   "execution_count": 33,
   "metadata": {},
   "outputs": [
    {
     "data": {
      "text/plain": [
       "(0, 330, 330)"
      ]
     },
     "execution_count": 33,
     "metadata": {},
     "output_type": "execute_result"
    }
   ],
   "source": [
    "import tensorflow as tf\n",
    "import cv2\n",
    "import numpy as np\n",
    "\n",
    "images = []\n",
    "labels = []\n",
    "error_count = 0\n",
    "\n",
    "\n",
    "def resize_image(image_path):\n",
    "    image = cv2.imread(image_path)\n",
    "    image = tf.image.resize(image, size=(224, 224))\n",
    "    image = tf.cast(image, dtype=tf.float32)\n",
    "    return image\n",
    "\n",
    "\n",
    "for item in np.array(df):\n",
    "    label = item[0]\n",
    "    path = item[1]\n",
    "\n",
    "    try:\n",
    "        image = resize_image(path)\n",
    "        images.append(image)\n",
    "        labels.append(label)\n",
    "    except ValueError as e:\n",
    "        error_count = error_count + 1\n",
    "\n",
    "error_count, len(images), len(labels)\n"
   ]
  },
  {
   "cell_type": "code",
   "execution_count": 34,
   "metadata": {},
   "outputs": [],
   "source": [
    "images = np.array(images)\n",
    "labels = np.array(labels)\n"
   ]
  },
  {
   "cell_type": "markdown",
   "metadata": {},
   "source": [
    "### b. Label\n"
   ]
  },
  {
   "cell_type": "code",
   "execution_count": 35,
   "metadata": {},
   "outputs": [
    {
     "data": {
      "text/plain": [
       "(330, 1)"
      ]
     },
     "execution_count": 35,
     "metadata": {},
     "output_type": "execute_result"
    }
   ],
   "source": [
    "from sklearn.preprocessing import LabelEncoder\n",
    "\n",
    "labelEncoder = LabelEncoder()\n",
    "y = labelEncoder.fit_transform(labels)\n",
    "Y = y.reshape(-1, 1)\n",
    "\n",
    "Y.shape\n"
   ]
  },
  {
   "cell_type": "markdown",
   "metadata": {},
   "source": [
    "### c. Split testing & training data\n"
   ]
  },
  {
   "cell_type": "code",
   "execution_count": 36,
   "metadata": {},
   "outputs": [],
   "source": [
    "from sklearn.model_selection import train_test_split\n"
   ]
  },
  {
   "cell_type": "code",
   "execution_count": 37,
   "metadata": {},
   "outputs": [],
   "source": [
    "train_x, test_x, train_Y, test_Y = train_test_split(\n",
    "    images,\n",
    "    Y,\n",
    "    test_size=0.2,\n",
    "    random_state=10\n",
    ")\n"
   ]
  },
  {
   "cell_type": "code",
   "execution_count": 38,
   "metadata": {},
   "outputs": [
    {
     "data": {
      "text/plain": [
       "((264, 224, 224, 3), (66, 224, 224, 3), (264, 1), (66, 1))"
      ]
     },
     "execution_count": 38,
     "metadata": {},
     "output_type": "execute_result"
    }
   ],
   "source": [
    "train_x.shape, test_x.shape, train_Y.shape, test_Y.shape\n"
   ]
  },
  {
   "cell_type": "markdown",
   "metadata": {},
   "source": [
    "## IV. Train\n"
   ]
  },
  {
   "cell_type": "code",
   "execution_count": 39,
   "metadata": {},
   "outputs": [],
   "source": [
    "NUM_CLASSES = 3\n",
    "IMG_SIZE = 224\n",
    "\n",
    "size = (IMG_SIZE, IMG_SIZE)\n"
   ]
  },
  {
   "cell_type": "code",
   "execution_count": 40,
   "metadata": {},
   "outputs": [
    {
     "name": "stdout",
     "output_type": "stream",
     "text": [
      "Model: \"model_1\"\n",
      "_________________________________________________________________\n",
      " Layer (type)                Output Shape              Param #   \n",
      "=================================================================\n",
      " input_3 (InputLayer)        [(None, 224, 224, 3)]     0         \n",
      "                                                                 \n",
      " efficientnetb0 (Functional)  (None, 3)                4053414   \n",
      "                                                                 \n",
      "=================================================================\n",
      "Total params: 4,053,414\n",
      "Trainable params: 4,011,391\n",
      "Non-trainable params: 42,023\n",
      "_________________________________________________________________\n"
     ]
    }
   ],
   "source": [
    "inputs = tf.keras.layers.Input(shape=(IMG_SIZE, IMG_SIZE, 3))\n",
    "outputs = tf.keras.applications.efficientnet.EfficientNetB0(\n",
    "    include_top=True,\n",
    "    weights=None,\n",
    "    classes=NUM_CLASSES\n",
    ")(inputs)\n",
    "\n",
    "model = tf.keras.Model(inputs, outputs)\n",
    "model.compile(\n",
    "    optimizer=\"sgd\",\n",
    "    loss=\"mse\",\n",
    "    metrics=[\"accuracy\"]\n",
    ")\n",
    "\n",
    "model.summary()\n"
   ]
  },
  {
   "cell_type": "code",
   "execution_count": 41,
   "metadata": {},
   "outputs": [],
   "source": [
    "from datetime import datetime"
   ]
  },
  {
   "cell_type": "code",
   "execution_count": 42,
   "metadata": {},
   "outputs": [
    {
     "name": "stdout",
     "output_type": "stream",
     "text": [
      "Epoch 1/30\n",
      "9/9 - 48s - loss: 339.8461 - accuracy: 0.0265 - 48s/epoch - 5s/step\n",
      "Epoch 2/30\n",
      "9/9 - 38s - loss: 339.8368 - accuracy: 0.0265 - 38s/epoch - 4s/step\n",
      "Epoch 3/30\n",
      "9/9 - 42s - loss: 339.8402 - accuracy: 0.0265 - 42s/epoch - 5s/step\n",
      "Epoch 4/30\n",
      "9/9 - 38s - loss: 339.8359 - accuracy: 0.0152 - 38s/epoch - 4s/step\n",
      "Epoch 5/30\n",
      "9/9 - 37s - loss: 339.8336 - accuracy: 0.0265 - 37s/epoch - 4s/step\n",
      "Epoch 6/30\n",
      "9/9 - 53s - loss: 339.8304 - accuracy: 0.0303 - 53s/epoch - 6s/step\n",
      "Epoch 7/30\n",
      "9/9 - 45s - loss: 339.8304 - accuracy: 0.0341 - 45s/epoch - 5s/step\n",
      "Epoch 8/30\n",
      "9/9 - 47s - loss: 339.8277 - accuracy: 0.0379 - 47s/epoch - 5s/step\n",
      "Epoch 9/30\n",
      "9/9 - 37s - loss: 339.8272 - accuracy: 0.0076 - 37s/epoch - 4s/step\n",
      "Epoch 10/30\n",
      "9/9 - 36s - loss: 339.8258 - accuracy: 0.0265 - 36s/epoch - 4s/step\n",
      "Epoch 11/30\n",
      "9/9 - 37s - loss: 339.8327 - accuracy: 0.0303 - 37s/epoch - 4s/step\n",
      "Epoch 12/30\n",
      "9/9 - 39s - loss: 339.8243 - accuracy: 0.0341 - 39s/epoch - 4s/step\n",
      "Epoch 13/30\n",
      "9/9 - 42s - loss: 339.8246 - accuracy: 0.0152 - 42s/epoch - 5s/step\n",
      "Epoch 14/30\n",
      "9/9 - 43s - loss: 339.8234 - accuracy: 0.0227 - 43s/epoch - 5s/step\n",
      "Epoch 15/30\n",
      "9/9 - 36s - loss: 339.8284 - accuracy: 0.0265 - 36s/epoch - 4s/step\n",
      "Epoch 16/30\n",
      "9/9 - 38s - loss: 339.8284 - accuracy: 0.0303 - 38s/epoch - 4s/step\n",
      "Epoch 17/30\n",
      "9/9 - 46s - loss: 339.8278 - accuracy: 0.0341 - 46s/epoch - 5s/step\n",
      "Epoch 18/30\n",
      "9/9 - 39s - loss: 339.8261 - accuracy: 0.0303 - 39s/epoch - 4s/step\n",
      "Epoch 19/30\n",
      "9/9 - 37s - loss: 339.8252 - accuracy: 0.0189 - 37s/epoch - 4s/step\n",
      "Epoch 20/30\n",
      "9/9 - 38s - loss: 339.8247 - accuracy: 0.0265 - 38s/epoch - 4s/step\n",
      "Epoch 21/30\n",
      "9/9 - 44s - loss: 339.8216 - accuracy: 0.0189 - 44s/epoch - 5s/step\n",
      "Epoch 22/30\n",
      "9/9 - 40s - loss: 339.8277 - accuracy: 0.0265 - 40s/epoch - 4s/step\n",
      "Epoch 23/30\n",
      "9/9 - 41s - loss: 339.8228 - accuracy: 0.0265 - 41s/epoch - 5s/step\n",
      "Epoch 24/30\n",
      "9/9 - 45s - loss: 339.8217 - accuracy: 0.0455 - 45s/epoch - 5s/step\n",
      "Epoch 25/30\n",
      "9/9 - 38s - loss: 339.8203 - accuracy: 0.0227 - 38s/epoch - 4s/step\n",
      "Epoch 26/30\n",
      "9/9 - 37s - loss: 339.8258 - accuracy: 0.0379 - 37s/epoch - 4s/step\n",
      "Epoch 27/30\n",
      "9/9 - 43s - loss: 339.8199 - accuracy: 0.0227 - 43s/epoch - 5s/step\n",
      "Epoch 28/30\n",
      "9/9 - 42s - loss: 339.8189 - accuracy: 0.0265 - 42s/epoch - 5s/step\n",
      "Epoch 29/30\n",
      "9/9 - 42s - loss: 339.8180 - accuracy: 0.0265 - 42s/epoch - 5s/step\n",
      "Epoch 30/30\n",
      "9/9 - 43s - loss: 339.8193 - accuracy: 0.0265 - 43s/epoch - 5s/step\n"
     ]
    },
    {
     "data": {
      "text/plain": [
       "{'loss': [339.8460693359375,\n",
       "  339.8368225097656,\n",
       "  339.8402099609375,\n",
       "  339.83587646484375,\n",
       "  339.8335876464844,\n",
       "  339.8304443359375,\n",
       "  339.8304138183594,\n",
       "  339.8276672363281,\n",
       "  339.8272399902344,\n",
       "  339.8257751464844,\n",
       "  339.83270263671875,\n",
       "  339.8243408203125,\n",
       "  339.8245544433594,\n",
       "  339.8233642578125,\n",
       "  339.82843017578125,\n",
       "  339.8283996582031,\n",
       "  339.8277587890625,\n",
       "  339.8261413574219,\n",
       "  339.8251953125,\n",
       "  339.8247375488281,\n",
       "  339.82159423828125,\n",
       "  339.82769775390625,\n",
       "  339.82275390625,\n",
       "  339.8216552734375,\n",
       "  339.82025146484375,\n",
       "  339.8258056640625,\n",
       "  339.8199157714844,\n",
       "  339.8189392089844,\n",
       "  339.8180236816406,\n",
       "  339.8193359375],\n",
       " 'accuracy': [0.02651515230536461,\n",
       "  0.02651515230536461,\n",
       "  0.02651515230536461,\n",
       "  0.01515151560306549,\n",
       "  0.02651515230536461,\n",
       "  0.03030303120613098,\n",
       "  0.034090910106897354,\n",
       "  0.03787878900766373,\n",
       "  0.007575757801532745,\n",
       "  0.02651515230536461,\n",
       "  0.03030303120613098,\n",
       "  0.034090910106897354,\n",
       "  0.01515151560306549,\n",
       "  0.022727273404598236,\n",
       "  0.02651515230536461,\n",
       "  0.03030303120613098,\n",
       "  0.034090910106897354,\n",
       "  0.03030303120613098,\n",
       "  0.018939394503831863,\n",
       "  0.02651515230536461,\n",
       "  0.018939394503831863,\n",
       "  0.02651515230536461,\n",
       "  0.02651515230536461,\n",
       "  0.04545454680919647,\n",
       "  0.022727273404598236,\n",
       "  0.03787878900766373,\n",
       "  0.022727273404598236,\n",
       "  0.02651515230536461,\n",
       "  0.02651515230536461,\n",
       "  0.02651515230536461]}"
      ]
     },
     "execution_count": 42,
     "metadata": {},
     "output_type": "execute_result"
    }
   ],
   "source": [
    "epochs = 30\n",
    "\n",
    "hist = model.fit(train_x, train_Y, epochs=epochs, verbose=2)\n",
    "trained_at = datetime.now().time()\n",
    "\n",
    "hist.history"
   ]
  },
  {
   "cell_type": "code",
   "execution_count": 43,
   "metadata": {},
   "outputs": [
    {
     "name": "stdout",
     "output_type": "stream",
     "text": [
      "3/3 [==============================] - 5s 495ms/step - loss: 321.5603 - accuracy: 0.0303\n",
      "Loss = 321.560302734375\n",
      "Test Accuracy = 0.03030303120613098\n"
     ]
    }
   ],
   "source": [
    "prediction = model.evaluate(test_x, test_Y)\n",
    "\n",
    "print(\"Loss = \" + str(prediction[0]))\n",
    "print(\"Test Accuracy = \" + str(prediction[1]))"
   ]
  },
  {
   "cell_type": "markdown",
   "metadata": {},
   "source": [
    "## V. Save Model"
   ]
  },
  {
   "cell_type": "code",
   "execution_count": 44,
   "metadata": {},
   "outputs": [],
   "source": [
    "model.save(f'../models/efficient_net_b0-{trained_at}.h5')"
   ]
  }
 ],
 "metadata": {
  "kernelspec": {
   "display_name": "Python 3.10.0 64-bit ('3.10.0')",
   "language": "python",
   "name": "python3"
  },
  "language_info": {
   "codemirror_mode": {
    "name": "ipython",
    "version": 3
   },
   "file_extension": ".py",
   "mimetype": "text/x-python",
   "name": "python",
   "nbconvert_exporter": "python",
   "pygments_lexer": "ipython3",
   "version": "3.10.0"
  },
  "orig_nbformat": 4,
  "vscode": {
   "interpreter": {
    "hash": "b8d83d870ee499a7f35a03e9e5e6e84ce02f1ac8f9e1937d0a54b919ea69e0ca"
   }
  }
 },
 "nbformat": 4,
 "nbformat_minor": 2
}
