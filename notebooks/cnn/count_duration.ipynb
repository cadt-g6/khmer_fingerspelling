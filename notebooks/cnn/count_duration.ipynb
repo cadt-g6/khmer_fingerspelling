{
 "cells": [
  {
   "cell_type": "markdown",
   "metadata": {},
   "source": [
    "# Count Character Duration\n"
   ]
  },
  {
   "cell_type": "code",
   "execution_count": 14,
   "metadata": {},
   "outputs": [],
   "source": [
    "import sys\n",
    "sys.path.append('..')\n"
   ]
  },
  {
   "cell_type": "code",
   "execution_count": 15,
   "metadata": {},
   "outputs": [],
   "source": [
    "import pandas as pd\n"
   ]
  },
  {
   "cell_type": "code",
   "execution_count": 16,
   "metadata": {},
   "outputs": [],
   "source": [
    "consonants = \"../datasets/csv/consonants.csv\"\n",
    "independent_vowels = \"../datasets/csv/independent_vowels.csv\"\n",
    "sub_vowels = \"../datasets/csv/sub_vowels.csv\"\n",
    "vowels = \"../datasets/csv/vowels.csv\"\n"
   ]
  },
  {
   "cell_type": "code",
   "execution_count": 17,
   "metadata": {},
   "outputs": [],
   "source": [
    "vowels = \"../datasets/csv/vowels.csv\"\n"
   ]
  },
  {
   "cell_type": "code",
   "execution_count": 18,
   "metadata": {},
   "outputs": [],
   "source": [
    "full_consonants_df = pd.read_csv(consonants)\n",
    "\n",
    "consonants_df = full_consonants_df[full_consonants_df['type'] == 'consonant']\n",
    "stack_consonants_df = full_consonants_df[full_consonants_df['type']\n",
    "                                         == 'stack_consonant']\n",
    "\n",
    "independent_vowels_df = pd.read_csv(independent_vowels)\n",
    "sub_vowels_df = pd.read_csv(sub_vowels)\n",
    "vowels_df = pd.read_csv(vowels)\n",
    "\n",
    "dfs = [\n",
    "    consonants_df,\n",
    "    stack_consonants_df,\n",
    "    independent_vowels_df,\n",
    "    sub_vowels_df,\n",
    "    vowels_df,\n",
    "]\n"
   ]
  },
  {
   "cell_type": "code",
   "execution_count": 19,
   "metadata": {},
   "outputs": [
    {
     "data": {
      "text/html": [
       "<div>\n",
       "<style scoped>\n",
       "    .dataframe tbody tr th:only-of-type {\n",
       "        vertical-align: middle;\n",
       "    }\n",
       "\n",
       "    .dataframe tbody tr th {\n",
       "        vertical-align: top;\n",
       "    }\n",
       "\n",
       "    .dataframe thead th {\n",
       "        text-align: right;\n",
       "    }\n",
       "</style>\n",
       "<table border=\"1\" class=\"dataframe\">\n",
       "  <thead>\n",
       "    <tr style=\"text-align: right;\">\n",
       "      <th></th>\n",
       "      <th>start_at</th>\n",
       "      <th>end_at</th>\n",
       "      <th>start_sec</th>\n",
       "      <th>end_sec</th>\n",
       "      <th>char</th>\n",
       "      <th>latin_char</th>\n",
       "      <th>type</th>\n",
       "      <th>video_name</th>\n",
       "    </tr>\n",
       "  </thead>\n",
       "  <tbody>\n",
       "    <tr>\n",
       "      <th>64</th>\n",
       "      <td>00:01:01</td>\n",
       "      <td>00:01:03</td>\n",
       "      <td>61.0</td>\n",
       "      <td>63.0</td>\n",
       "      <td>្អ</td>\n",
       "      <td>stack_or</td>\n",
       "      <td>stack_consonant</td>\n",
       "      <td>PXL_20221005_090611869.mp4</td>\n",
       "    </tr>\n",
       "    <tr>\n",
       "      <th>254</th>\n",
       "      <td>00:00:39</td>\n",
       "      <td>00:00:43</td>\n",
       "      <td>39.0</td>\n",
       "      <td>43.0</td>\n",
       "      <td>្ស</td>\n",
       "      <td>stack_sa</td>\n",
       "      <td>stack_consonant</td>\n",
       "      <td>PXL_20221005_091137699.mp4</td>\n",
       "    </tr>\n",
       "    <tr>\n",
       "      <th>445</th>\n",
       "      <td>00:00:24</td>\n",
       "      <td>00:00:25</td>\n",
       "      <td>24.0</td>\n",
       "      <td>25.0</td>\n",
       "      <td>្ល</td>\n",
       "      <td>stack_lo</td>\n",
       "      <td>stack_consonant</td>\n",
       "      <td>PXL_20221012_090956977.mp4</td>\n",
       "    </tr>\n",
       "    <tr>\n",
       "      <th>291</th>\n",
       "      <td>00:00:02</td>\n",
       "      <td>00:00:05</td>\n",
       "      <td>2.0</td>\n",
       "      <td>5.0</td>\n",
       "      <td>្ត</td>\n",
       "      <td>stack_ta</td>\n",
       "      <td>stack_consonant</td>\n",
       "      <td>PXL_20221005_082316310.mp4</td>\n",
       "    </tr>\n",
       "    <tr>\n",
       "      <th>41</th>\n",
       "      <td>00:00:02</td>\n",
       "      <td>00:00:04</td>\n",
       "      <td>2.0</td>\n",
       "      <td>4.0</td>\n",
       "      <td>្ប</td>\n",
       "      <td>stack_ba</td>\n",
       "      <td>stack_consonant</td>\n",
       "      <td>PXL_20221005_084351190.mp4</td>\n",
       "    </tr>\n",
       "  </tbody>\n",
       "</table>\n",
       "</div>"
      ],
      "text/plain": [
       "      start_at     end_at  start_sec  end_sec char latin_char  \\\n",
       "64    00:01:01   00:01:03       61.0     63.0   ្អ   stack_or   \n",
       "254   00:00:39   00:00:43       39.0     43.0   ្ស   stack_sa   \n",
       "445   00:00:24   00:00:25       24.0     25.0   ្ល   stack_lo   \n",
       "291   00:00:02   00:00:05        2.0      5.0   ្ត   stack_ta   \n",
       "41    00:00:02   00:00:04        2.0      4.0   ្ប   stack_ba   \n",
       "\n",
       "                type                  video_name  \n",
       "64   stack_consonant  PXL_20221005_090611869.mp4  \n",
       "254  stack_consonant  PXL_20221005_091137699.mp4  \n",
       "445  stack_consonant  PXL_20221012_090956977.mp4  \n",
       "291  stack_consonant  PXL_20221005_082316310.mp4  \n",
       "41   stack_consonant  PXL_20221005_084351190.mp4  "
      ]
     },
     "execution_count": 19,
     "metadata": {},
     "output_type": "execute_result"
    }
   ],
   "source": [
    "stack_consonants_df.sample(5)\n"
   ]
  },
  {
   "cell_type": "code",
   "execution_count": 20,
   "metadata": {},
   "outputs": [
    {
     "data": {
      "text/html": [
       "<div>\n",
       "<style scoped>\n",
       "    .dataframe tbody tr th:only-of-type {\n",
       "        vertical-align: middle;\n",
       "    }\n",
       "\n",
       "    .dataframe tbody tr th {\n",
       "        vertical-align: top;\n",
       "    }\n",
       "\n",
       "    .dataframe thead th {\n",
       "        text-align: right;\n",
       "    }\n",
       "</style>\n",
       "<table border=\"1\" class=\"dataframe\">\n",
       "  <thead>\n",
       "    <tr style=\"text-align: right;\">\n",
       "      <th></th>\n",
       "      <th>start_at</th>\n",
       "      <th>end_at</th>\n",
       "      <th>start_sec</th>\n",
       "      <th>end_sec</th>\n",
       "      <th>char</th>\n",
       "      <th>latin_char</th>\n",
       "      <th>type</th>\n",
       "      <th>video_name</th>\n",
       "    </tr>\n",
       "  </thead>\n",
       "  <tbody>\n",
       "    <tr>\n",
       "      <th>38</th>\n",
       "      <td>00:01:42</td>\n",
       "      <td>00:01:43</td>\n",
       "      <td>102</td>\n",
       "      <td>103</td>\n",
       "      <td>ឳ</td>\n",
       "      <td>au</td>\n",
       "      <td>independent_vowel</td>\n",
       "      <td>PXL_20221005_065137785.mp4</td>\n",
       "    </tr>\n",
       "    <tr>\n",
       "      <th>18</th>\n",
       "      <td>00:00:55</td>\n",
       "      <td>00:00:57</td>\n",
       "      <td>55</td>\n",
       "      <td>57</td>\n",
       "      <td>ឫ</td>\n",
       "      <td>rue</td>\n",
       "      <td>independent_vowel</td>\n",
       "      <td>PXL_20221005_064851272.mp4</td>\n",
       "    </tr>\n",
       "    <tr>\n",
       "      <th>36</th>\n",
       "      <td>00:01:29</td>\n",
       "      <td>00:01:31</td>\n",
       "      <td>89</td>\n",
       "      <td>91</td>\n",
       "      <td>ឰ</td>\n",
       "      <td>ai</td>\n",
       "      <td>independent_vowel</td>\n",
       "      <td>PXL_20221005_065137785.mp4</td>\n",
       "    </tr>\n",
       "    <tr>\n",
       "      <th>42</th>\n",
       "      <td>00:00:18</td>\n",
       "      <td>00:00:32</td>\n",
       "      <td>18</td>\n",
       "      <td>32</td>\n",
       "      <td>ឩ</td>\n",
       "      <td>ou</td>\n",
       "      <td>independent_vowel</td>\n",
       "      <td>PXL_20221005_063616958.mp4</td>\n",
       "    </tr>\n",
       "    <tr>\n",
       "      <th>12</th>\n",
       "      <td>00:01:55</td>\n",
       "      <td>00:01:57</td>\n",
       "      <td>115</td>\n",
       "      <td>117</td>\n",
       "      <td>ឳ</td>\n",
       "      <td>au</td>\n",
       "      <td>independent_vowel</td>\n",
       "      <td>PXL_20221005_064056229.mp4</td>\n",
       "    </tr>\n",
       "  </tbody>\n",
       "</table>\n",
       "</div>"
      ],
      "text/plain": [
       "    start_at    end_at  start_sec  end_sec char latin_char               type  \\\n",
       "38  00:01:42  00:01:43        102      103    ឳ         au  independent_vowel   \n",
       "18  00:00:55  00:00:57         55       57    ឫ        rue  independent_vowel   \n",
       "36  00:01:29  00:01:31         89       91    ឰ         ai  independent_vowel   \n",
       "42  00:00:18  00:00:32         18       32    ឩ         ou  independent_vowel   \n",
       "12  00:01:55  00:01:57        115      117    ឳ         au  independent_vowel   \n",
       "\n",
       "                    video_name  \n",
       "38  PXL_20221005_065137785.mp4  \n",
       "18  PXL_20221005_064851272.mp4  \n",
       "36  PXL_20221005_065137785.mp4  \n",
       "42  PXL_20221005_063616958.mp4  \n",
       "12  PXL_20221005_064056229.mp4  "
      ]
     },
     "execution_count": 20,
     "metadata": {},
     "output_type": "execute_result"
    }
   ],
   "source": [
    "independent_vowels_df.sample(5)\n"
   ]
  },
  {
   "cell_type": "code",
   "execution_count": 21,
   "metadata": {},
   "outputs": [
    {
     "data": {
      "text/html": [
       "<div>\n",
       "<style scoped>\n",
       "    .dataframe tbody tr th:only-of-type {\n",
       "        vertical-align: middle;\n",
       "    }\n",
       "\n",
       "    .dataframe tbody tr th {\n",
       "        vertical-align: top;\n",
       "    }\n",
       "\n",
       "    .dataframe thead th {\n",
       "        text-align: right;\n",
       "    }\n",
       "</style>\n",
       "<table border=\"1\" class=\"dataframe\">\n",
       "  <thead>\n",
       "    <tr style=\"text-align: right;\">\n",
       "      <th></th>\n",
       "      <th>start_at</th>\n",
       "      <th>end_at</th>\n",
       "      <th>start_sec</th>\n",
       "      <th>end_sec</th>\n",
       "      <th>char</th>\n",
       "      <th>latin_char</th>\n",
       "      <th>type</th>\n",
       "      <th>video_name</th>\n",
       "    </tr>\n",
       "  </thead>\n",
       "  <tbody>\n",
       "    <tr>\n",
       "      <th>20</th>\n",
       "      <td>00:00:44</td>\n",
       "      <td>00:00:45</td>\n",
       "      <td>44</td>\n",
       "      <td>45</td>\n",
       "      <td>៚</td>\n",
       "      <td>koumutr</td>\n",
       "      <td>sub_vowel</td>\n",
       "      <td>PXL_20221005_061243962.mp4</td>\n",
       "    </tr>\n",
       "    <tr>\n",
       "      <th>40</th>\n",
       "      <td>00:01:39</td>\n",
       "      <td>00:01:41</td>\n",
       "      <td>99</td>\n",
       "      <td>101</td>\n",
       "      <td>?</td>\n",
       "      <td>sanha_sur</td>\n",
       "      <td>sub_vowel</td>\n",
       "      <td>PXL_20221005_060957166.mp4</td>\n",
       "    </tr>\n",
       "    <tr>\n",
       "      <th>96</th>\n",
       "      <td>00:00:52</td>\n",
       "      <td>00:00:54</td>\n",
       "      <td>52</td>\n",
       "      <td>54</td>\n",
       "      <td>?</td>\n",
       "      <td>sanha_sur</td>\n",
       "      <td>sub_vowel</td>\n",
       "      <td>PXL_20221012_074532369.mp4</td>\n",
       "    </tr>\n",
       "    <tr>\n",
       "      <th>105</th>\n",
       "      <td>00:00:57</td>\n",
       "      <td>00:01:00</td>\n",
       "      <td>57</td>\n",
       "      <td>60</td>\n",
       "      <td>៖</td>\n",
       "      <td>chamnoch_pirkus</td>\n",
       "      <td>sub_vowel</td>\n",
       "      <td>PXL_20221012_074755140.mp4</td>\n",
       "    </tr>\n",
       "    <tr>\n",
       "      <th>77</th>\n",
       "      <td>00:00:50</td>\n",
       "      <td>00:00:53</td>\n",
       "      <td>50</td>\n",
       "      <td>53</td>\n",
       "      <td>៖</td>\n",
       "      <td>chamnoch_pirkus</td>\n",
       "      <td>sub_vowel</td>\n",
       "      <td>PXL_20221005_061501760.mp4</td>\n",
       "    </tr>\n",
       "  </tbody>\n",
       "</table>\n",
       "</div>"
      ],
      "text/plain": [
       "      start_at     end_at  start_sec  end_sec char       latin_char  \\\n",
       "20    00:00:44   00:00:45         44       45    ៚          koumutr   \n",
       "40    00:01:39   00:01:41         99      101    ?        sanha_sur   \n",
       "96    00:00:52   00:00:54         52       54    ?        sanha_sur   \n",
       "105   00:00:57   00:01:00         57       60    ៖  chamnoch_pirkus   \n",
       "77    00:00:50   00:00:53         50       53    ៖  chamnoch_pirkus   \n",
       "\n",
       "          type                  video_name  \n",
       "20   sub_vowel  PXL_20221005_061243962.mp4  \n",
       "40   sub_vowel  PXL_20221005_060957166.mp4  \n",
       "96   sub_vowel  PXL_20221012_074532369.mp4  \n",
       "105  sub_vowel  PXL_20221012_074755140.mp4  \n",
       "77   sub_vowel  PXL_20221005_061501760.mp4  "
      ]
     },
     "execution_count": 21,
     "metadata": {},
     "output_type": "execute_result"
    }
   ],
   "source": [
    "sub_vowels_df.sample(5)\n"
   ]
  },
  {
   "cell_type": "code",
   "execution_count": 22,
   "metadata": {},
   "outputs": [
    {
     "data": {
      "text/html": [
       "<div>\n",
       "<style scoped>\n",
       "    .dataframe tbody tr th:only-of-type {\n",
       "        vertical-align: middle;\n",
       "    }\n",
       "\n",
       "    .dataframe tbody tr th {\n",
       "        vertical-align: top;\n",
       "    }\n",
       "\n",
       "    .dataframe thead th {\n",
       "        text-align: right;\n",
       "    }\n",
       "</style>\n",
       "<table border=\"1\" class=\"dataframe\">\n",
       "  <thead>\n",
       "    <tr style=\"text-align: right;\">\n",
       "      <th></th>\n",
       "      <th>start_at</th>\n",
       "      <th>end_at</th>\n",
       "      <th>start_sec</th>\n",
       "      <th>end_sec</th>\n",
       "      <th>char</th>\n",
       "      <th>latin_char</th>\n",
       "      <th>type</th>\n",
       "      <th>video_name</th>\n",
       "    </tr>\n",
       "  </thead>\n",
       "  <tbody>\n",
       "    <tr>\n",
       "      <th>164</th>\n",
       "      <td>00:00:14</td>\n",
       "      <td>00:00:17</td>\n",
       "      <td>14</td>\n",
       "      <td>17</td>\n",
       "      <td>ឹ</td>\n",
       "      <td>srak_oe</td>\n",
       "      <td>vowel</td>\n",
       "      <td>PXL_20221012_073453141.mp4</td>\n",
       "    </tr>\n",
       "    <tr>\n",
       "      <th>8</th>\n",
       "      <td>00:00:43</td>\n",
       "      <td>00:00:44</td>\n",
       "      <td>43</td>\n",
       "      <td>44</td>\n",
       "      <td>ើ</td>\n",
       "      <td>srak_aeu</td>\n",
       "      <td>vowel</td>\n",
       "      <td>PXL_20221005_051147777.mp4</td>\n",
       "    </tr>\n",
       "    <tr>\n",
       "      <th>154</th>\n",
       "      <td>00:01:26</td>\n",
       "      <td>00:01:29</td>\n",
       "      <td>86</td>\n",
       "      <td>89</td>\n",
       "      <td>ុំ</td>\n",
       "      <td>srak_um</td>\n",
       "      <td>vowel</td>\n",
       "      <td>PXL_20221012_073156470.mp4</td>\n",
       "    </tr>\n",
       "    <tr>\n",
       "      <th>130</th>\n",
       "      <td>00:01:17</td>\n",
       "      <td>00:01:18</td>\n",
       "      <td>77</td>\n",
       "      <td>78</td>\n",
       "      <td>ៅ</td>\n",
       "      <td>srak_au</td>\n",
       "      <td>vowel</td>\n",
       "      <td>PXL_20221005_050243833.mp4</td>\n",
       "    </tr>\n",
       "    <tr>\n",
       "      <th>175</th>\n",
       "      <td>00:01:00</td>\n",
       "      <td>00:01:03</td>\n",
       "      <td>60</td>\n",
       "      <td>63</td>\n",
       "      <td>ោ</td>\n",
       "      <td>srak_ao</td>\n",
       "      <td>vowel</td>\n",
       "      <td>PXL_20221012_073453141.mp4</td>\n",
       "    </tr>\n",
       "  </tbody>\n",
       "</table>\n",
       "</div>"
      ],
      "text/plain": [
       "     start_at    end_at  start_sec  end_sec char latin_char   type  \\\n",
       "164  00:00:14  00:00:17         14       17    ឹ    srak_oe  vowel   \n",
       "8    00:00:43  00:00:44         43       44    ើ   srak_aeu  vowel   \n",
       "154  00:01:26  00:01:29         86       89   ុំ    srak_um  vowel   \n",
       "130  00:01:17  00:01:18         77       78    ៅ    srak_au  vowel   \n",
       "175  00:01:00  00:01:03         60       63    ោ    srak_ao  vowel   \n",
       "\n",
       "                     video_name  \n",
       "164  PXL_20221012_073453141.mp4  \n",
       "8    PXL_20221005_051147777.mp4  \n",
       "154  PXL_20221012_073156470.mp4  \n",
       "130  PXL_20221005_050243833.mp4  \n",
       "175  PXL_20221012_073453141.mp4  "
      ]
     },
     "execution_count": 22,
     "metadata": {},
     "output_type": "execute_result"
    }
   ],
   "source": [
    "vowels_df.sample(5)\n"
   ]
  },
  {
   "cell_type": "markdown",
   "metadata": {},
   "source": [
    "## Character Video Count\n"
   ]
  },
  {
   "cell_type": "code",
   "execution_count": 58,
   "metadata": {},
   "outputs": [
    {
     "name": "stdout",
     "output_type": "stream",
     "text": [
      "['consonant']: 49\n",
      "['stack_consonant']: 49\n",
      "['independent_vowel']: 8\n",
      "['sub_vowel']: 8\n",
      "['vowel']: 8\n"
     ]
    }
   ],
   "source": [
    "# from varname import nameof\n",
    "\n",
    "def count_video(df: pd.DataFrame):\n",
    "    return df['video_name'].unique().size\n",
    "\n",
    "\n",
    "for i, df in enumerate(dfs):\n",
    "    print(\"{}: {}\".format(df['type'].unique(), count_video(df)))\n"
   ]
  },
  {
   "cell_type": "markdown",
   "metadata": {},
   "source": [
    "## Character Duration\n"
   ]
  },
  {
   "cell_type": "code",
   "execution_count": 59,
   "metadata": {},
   "outputs": [
    {
     "name": "stderr",
     "output_type": "stream",
     "text": [
      "/var/folders/g8/wgj905m158gbcnzm6q5v9y2r0000gn/T/ipykernel_9238/2458337709.py:2: SettingWithCopyWarning: \n",
      "A value is trying to be set on a copy of a slice from a DataFrame.\n",
      "Try using .loc[row_indexer,col_indexer] = value instead\n",
      "\n",
      "See the caveats in the documentation: https://pandas.pydata.org/pandas-docs/stable/user_guide/indexing.html#returning-a-view-versus-a-copy\n",
      "  df['duration'] = df.apply(lambda row: row.end_sec - row.start_sec, axis=1)\n",
      "/var/folders/g8/wgj905m158gbcnzm6q5v9y2r0000gn/T/ipykernel_9238/2458337709.py:2: SettingWithCopyWarning: \n",
      "A value is trying to be set on a copy of a slice from a DataFrame.\n",
      "Try using .loc[row_indexer,col_indexer] = value instead\n",
      "\n",
      "See the caveats in the documentation: https://pandas.pydata.org/pandas-docs/stable/user_guide/indexing.html#returning-a-view-versus-a-copy\n",
      "  df['duration'] = df.apply(lambda row: row.end_sec - row.start_sec, axis=1)\n"
     ]
    }
   ],
   "source": [
    "def add_duration(df: pd.DataFrame):\n",
    "    df['duration'] = df.apply(lambda row: row.end_sec - row.start_sec, axis=1)\n",
    "\n",
    "\n",
    "for df in dfs:\n",
    "    add_duration(df)\n"
   ]
  },
  {
   "cell_type": "code",
   "execution_count": 60,
   "metadata": {},
   "outputs": [
    {
     "data": {
      "text/plain": [
       "(697.0, 11.616666666666667)"
      ]
     },
     "execution_count": 60,
     "metadata": {},
     "output_type": "execute_result"
    }
   ],
   "source": [
    "c = consonants_df['duration'].sum()\n",
    "c, c / 60\n"
   ]
  },
  {
   "cell_type": "code",
   "execution_count": 61,
   "metadata": {},
   "outputs": [
    {
     "data": {
      "text/plain": [
       "(700.0, 11.666666666666666)"
      ]
     },
     "execution_count": 61,
     "metadata": {},
     "output_type": "execute_result"
    }
   ],
   "source": [
    "sc = stack_consonants_df['duration'].sum()\n",
    "sc, sc / 60\n"
   ]
  },
  {
   "cell_type": "code",
   "execution_count": 62,
   "metadata": {},
   "outputs": [
    {
     "data": {
      "text/plain": [
       "(298, 4.966666666666667)"
      ]
     },
     "execution_count": 62,
     "metadata": {},
     "output_type": "execute_result"
    }
   ],
   "source": [
    "iv = independent_vowels_df['duration'].sum()\n",
    "iv, iv / 60\n"
   ]
  },
  {
   "cell_type": "code",
   "execution_count": 63,
   "metadata": {},
   "outputs": [
    {
     "data": {
      "text/plain": [
       "(218, 3.6333333333333333)"
      ]
     },
     "execution_count": 63,
     "metadata": {},
     "output_type": "execute_result"
    }
   ],
   "source": [
    "sv = sub_vowels_df['duration'].sum()\n",
    "sv, sv / 60\n"
   ]
  },
  {
   "cell_type": "code",
   "execution_count": 64,
   "metadata": {},
   "outputs": [
    {
     "data": {
      "text/plain": [
       "(442, 7.366666666666666)"
      ]
     },
     "execution_count": 64,
     "metadata": {},
     "output_type": "execute_result"
    }
   ],
   "source": [
    "v = vowels_df['duration'].sum()\n",
    "v, v / 60\n"
   ]
  },
  {
   "cell_type": "code",
   "execution_count": 65,
   "metadata": {},
   "outputs": [
    {
     "data": {
      "text/plain": [
       "(2355.0, 39.25)"
      ]
     },
     "execution_count": 65,
     "metadata": {},
     "output_type": "execute_result"
    }
   ],
   "source": [
    "c + sc + iv + sv + v, c/60 + sc / 60 + iv/60 + sv/60 + v/60\n"
   ]
  }
 ],
 "metadata": {
  "kernelspec": {
   "display_name": "Python 3.8.9 64-bit ('3.8.9')",
   "language": "python",
   "name": "python3"
  },
  "language_info": {
   "codemirror_mode": {
    "name": "ipython",
    "version": 3
   },
   "file_extension": ".py",
   "mimetype": "text/x-python",
   "name": "python",
   "nbconvert_exporter": "python",
   "pygments_lexer": "ipython3",
   "version": "3.8.9"
  },
  "orig_nbformat": 4,
  "vscode": {
   "interpreter": {
    "hash": "7e98ac6221daa63a3648967019a4af795cdb5dd1d60f04529c31825dd01d07dc"
   }
  }
 },
 "nbformat": 4,
 "nbformat_minor": 2
}
